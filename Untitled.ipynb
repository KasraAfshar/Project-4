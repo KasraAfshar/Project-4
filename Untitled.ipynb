{
 "cells": [
  {
   "cell_type": "code",
   "execution_count": 13,
   "id": "656f1f88-85ba-4d00-bc34-3ab24c8e7f23",
   "metadata": {},
   "outputs": [
    {
     "name": "stdout",
     "output_type": "stream",
     "text": [
      "1: 2.2907268296853878\n",
      "2: 0.9525741268224334\n",
      "3: 2.7182818284590455\n",
      "4: 1.4000000000000001\n",
      "5: 4.798525912188081\n"
     ]
    }
   ],
   "source": [
    "import math\n",
    "\n",
    "# 1.\n",
    "def Soal1(x, y):\n",
    "    return (x / y) * math.log(x / y)\n",
    "\n",
    "# 2.\n",
    "def Soal2(x):\n",
    "    return 1 / (1 + math.exp(-x))\n",
    "\n",
    "# 3.\n",
    "def Soal3(x1, x2):\n",
    "    return math.exp(x1) / math.exp(x2)\n",
    "\n",
    "# 4.\n",
    "def Soal4(n, y, y1):\n",
    "    return (1 / n) * (y - y1)\n",
    "\n",
    "# 5.\n",
    "def Soal5(x):\n",
    "    return math.sqrt(x * math.log(x))\n",
    "\n",
    "\n",
    "print(\"1:\", Soal1(5, 2))\n",
    "print(\"2:\", Soal2(3))\n",
    "print(\"3:\", Soal3(2, 1))\n",
    "print(\"4:\", Soal4(5, 10, 3))\n",
    "print(\"5:\", Soal5(10))\n"
   ]
  },
  {
   "cell_type": "code",
   "execution_count": null,
   "id": "06690059-669d-4899-a980-dd7571263c63",
   "metadata": {},
   "outputs": [],
   "source": []
  }
 ],
 "metadata": {
  "kernelspec": {
   "display_name": "Python 3 (ipykernel)",
   "language": "python",
   "name": "python3"
  },
  "language_info": {
   "codemirror_mode": {
    "name": "ipython",
    "version": 3
   },
   "file_extension": ".py",
   "mimetype": "text/x-python",
   "name": "python",
   "nbconvert_exporter": "python",
   "pygments_lexer": "ipython3",
   "version": "3.13.1"
  }
 },
 "nbformat": 4,
 "nbformat_minor": 5
}
